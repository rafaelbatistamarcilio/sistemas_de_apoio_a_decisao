{
 "cells": [
  {
   "cell_type": "markdown",
   "metadata": {},
   "source": [
    "DISCIPLINA: Sistemas de Apoio à Decisão \tPROFESSOR(A): Alex Salgado \n",
    " \n",
    "PERÍODO: 8º. \t\t\t\tTURNO: noite \t\tAVALIAÇÃO: \n",
    " \n",
    "ALUNO(A): RAFAEL BATISTA MARCÍLIO\n",
    "\n",
    "MATRICULA: 0050011107\n",
    " \n",
    "GRAU: \t\t\t\t\t\t\tVISTO DO PROFESSOR:\n",
    " \n",
    "Preencha sua resposta no próprio arquivo do Jupyter e depois me envie no link abaixo:\n",
    "resposta: https://goo.gl/forms/aOml4FAMaTmB4u482\n"
   ]
  },
  {
   "cell_type": "markdown",
   "metadata": {},
   "source": [
    "## Questão 1 - valor (0,5)\n",
    "1.1 - Importar os modulos python para machine learn e carregar o arquivo cargas.xlsx usando o método read_excel do pandas"
   ]
  },
  {
   "cell_type": "code",
   "execution_count": 3,
   "metadata": {
    "collapsed": true
   },
   "outputs": [],
   "source": [
    "import pandas as pd\n",
    "dados = pd.read_excel('cargas.xlsx')"
   ]
  },
  {
   "cell_type": "markdown",
   "metadata": {},
   "source": [
    "1.2 - Exibir os primeiros registros desta tabela"
   ]
  },
  {
   "cell_type": "code",
   "execution_count": 4,
   "metadata": {},
   "outputs": [
    {
     "data": {
      "text/html": [
       "<div>\n",
       "<table border=\"1\" class=\"dataframe\">\n",
       "  <thead>\n",
       "    <tr style=\"text-align: right;\">\n",
       "      <th></th>\n",
       "      <th>carga</th>\n",
       "      <th>nome_carga</th>\n",
       "      <th>peso(gramas)</th>\n",
       "      <th>largura</th>\n",
       "      <th>altura</th>\n",
       "    </tr>\n",
       "  </thead>\n",
       "  <tbody>\n",
       "    <tr>\n",
       "      <th>0</th>\n",
       "      <td>1</td>\n",
       "      <td>carga fragil</td>\n",
       "      <td>384</td>\n",
       "      <td>6.100000</td>\n",
       "      <td>7.3</td>\n",
       "    </tr>\n",
       "    <tr>\n",
       "      <th>1</th>\n",
       "      <td>1</td>\n",
       "      <td>carga fragil</td>\n",
       "      <td>360</td>\n",
       "      <td>5.714286</td>\n",
       "      <td>6.8</td>\n",
       "    </tr>\n",
       "    <tr>\n",
       "      <th>2</th>\n",
       "      <td>1</td>\n",
       "      <td>carga fragil</td>\n",
       "      <td>352</td>\n",
       "      <td>5.100000</td>\n",
       "      <td>7.2</td>\n",
       "    </tr>\n",
       "    <tr>\n",
       "      <th>3</th>\n",
       "      <td>2</td>\n",
       "      <td>carga especial</td>\n",
       "      <td>172</td>\n",
       "      <td>23.800000</td>\n",
       "      <td>4.7</td>\n",
       "    </tr>\n",
       "    <tr>\n",
       "      <th>4</th>\n",
       "      <td>2</td>\n",
       "      <td>carga especial</td>\n",
       "      <td>168</td>\n",
       "      <td>4.285714</td>\n",
       "      <td>4.6</td>\n",
       "    </tr>\n",
       "  </tbody>\n",
       "</table>\n",
       "</div>"
      ],
      "text/plain": [
       "   carga      nome_carga  peso(gramas)    largura  altura\n",
       "0      1    carga fragil           384   6.100000     7.3\n",
       "1      1    carga fragil           360   5.714286     6.8\n",
       "2      1    carga fragil           352   5.100000     7.2\n",
       "3      2  carga especial           172  23.800000     4.7\n",
       "4      2  carga especial           168   4.285714     4.6"
      ]
     },
     "execution_count": 4,
     "metadata": {},
     "output_type": "execute_result"
    }
   ],
   "source": [
    "dados.head()"
   ]
  },
  {
   "cell_type": "markdown",
   "metadata": {},
   "source": [
    "## Questão 2 - valor (0,5)\n",
    "Utilizando as terminologias de Machine Learning(observações e features):  \n",
    "2.1 - Quantas observações têm nessa base de dados?"
   ]
  },
  {
   "cell_type": "code",
   "execution_count": 53,
   "metadata": {},
   "outputs": [
    {
     "name": "stdout",
     "output_type": "stream",
     "text": [
      "62\n"
     ]
    }
   ],
   "source": [
    "print(len(dados))"
   ]
  },
  {
   "cell_type": "markdown",
   "metadata": {},
   "source": [
    "2.2 - Quantas \"features\" têm nessa base de dados?"
   ]
  },
  {
   "cell_type": "code",
   "execution_count": 54,
   "metadata": {},
   "outputs": [
    {
     "name": "stdout",
     "output_type": "stream",
     "text": [
      "5\n"
     ]
    }
   ],
   "source": [
    "print(len(dados.columns))"
   ]
  },
  {
   "cell_type": "markdown",
   "metadata": {},
   "source": [
    "excluido"
   ]
  },
  {
   "cell_type": "code",
   "execution_count": 5,
   "metadata": {
    "collapsed": true
   },
   "outputs": [],
   "source": [
    "####"
   ]
  },
  {
   "cell_type": "markdown",
   "metadata": {},
   "source": [
    "## Questão 3 - valor (1,0)\n",
    "3.1 - Usando o algoritmo de KNN (com 5 vizinhos, k=5), qual a previsão? Adivinhe qual é carga com peso 327g, largura 14 cm, altura 8 cm, ou seja, com as seguintes features (peso = 327, largura=14, altura=8).\n"
   ]
  },
  {
   "cell_type": "code",
   "execution_count": 60,
   "metadata": {},
   "outputs": [
    {
     "name": "stdout",
     "output_type": "stream",
     "text": [
      "carga: 1 NOME: carga fragil\n"
     ]
    }
   ],
   "source": [
    "from sklearn.neighbors import KNeighborsClassifier\n",
    "Knn = KNeighborsClassifier(n_neighbors=5)\n",
    "\n",
    "X = dados[['peso(gramas)','largura', 'altura']]\n",
    "y = dados['carga'];\n",
    "\n",
    "Knn.fit(X,y)\n",
    "\n",
    "pred = Knn.predict([[327, 14, 8]])\n",
    "\n",
    "print('carga: '+ str(pred[0])+ ' NOME: '+dados['nome_carga'][pred[0]])"
   ]
  },
  {
   "cell_type": "markdown",
   "metadata": {},
   "source": [
    "## Questão 4 - valor (2,0)\n",
    "Usando o método de avaliação de acurácia (Treinar e testar SEPARADAMENTE-Train/test split), qual dos 3 métodos abaixo é mais eficiente?  \n",
    "4.1 - Acurácia usando o algoritmo de KNN (com 1 vizinho, k=1)\n"
   ]
  },
  {
   "cell_type": "code",
   "execution_count": 33,
   "metadata": {},
   "outputs": [
    {
     "name": "stdout",
     "output_type": "stream",
     "text": [
      "1.0\n"
     ]
    }
   ],
   "source": [
    "from sklearn import metrics\n",
    "\n",
    "Knn = KNeighborsClassifier(n_neighbors=1)\n",
    "\n",
    "Knn.fit(X,y)\n",
    "\n",
    "pred = Knn.predict(X)\n",
    "\n",
    "print(metrics.accuracy_score(y,pred))"
   ]
  },
  {
   "cell_type": "markdown",
   "metadata": {},
   "source": [
    "4.2 - Acurácia usando o algoritmo de KNN (com 5 vizinho, k=5)"
   ]
  },
  {
   "cell_type": "code",
   "execution_count": 34,
   "metadata": {},
   "outputs": [
    {
     "name": "stdout",
     "output_type": "stream",
     "text": [
      "0.709677419355\n"
     ]
    }
   ],
   "source": [
    "from sklearn import metrics\n",
    "\n",
    "Knn = KNeighborsClassifier(n_neighbors=5)\n",
    "\n",
    "Knn.fit(X,y)\n",
    "\n",
    "pred = Knn.predict(X)\n",
    "\n",
    "print(metrics.accuracy_score(y,pred))"
   ]
  },
  {
   "cell_type": "markdown",
   "metadata": {},
   "source": [
    "4.3 - Acurácia usando o algoritmo de LogisticRegression"
   ]
  },
  {
   "cell_type": "code",
   "execution_count": 36,
   "metadata": {},
   "outputs": [
    {
     "name": "stdout",
     "output_type": "stream",
     "text": [
      "0.677419354839\n"
     ]
    }
   ],
   "source": [
    "from sklearn.linear_model import LogisticRegression\n",
    "logreg = LogisticRegression()\n",
    "\n",
    "logreg.fit(X,y)\n",
    "\n",
    "pred = logreg.predict(X)\n",
    "\n",
    "print(metrics.accuracy_score(y,pred))"
   ]
  },
  {
   "cell_type": "code",
   "execution_count": null,
   "metadata": {
    "collapsed": true
   },
   "outputs": [],
   "source": []
  }
 ],
 "metadata": {
  "kernelspec": {
   "display_name": "Python 3",
   "language": "python",
   "name": "python3"
  },
  "language_info": {
   "codemirror_mode": {
    "name": "ipython",
    "version": 3
   },
   "file_extension": ".py",
   "mimetype": "text/x-python",
   "name": "python",
   "nbconvert_exporter": "python",
   "pygments_lexer": "ipython3",
   "version": "3.5.3"
  }
 },
 "nbformat": 4,
 "nbformat_minor": 2
}
