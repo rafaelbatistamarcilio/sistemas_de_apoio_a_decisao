{
 "cells": [
  {
   "cell_type": "code",
   "execution_count": 2,
   "metadata": {},
   "outputs": [
    {
     "name": "stdout",
     "output_type": "stream",
     "text": [
      "Qual é rapaziada!\n"
     ]
    }
   ],
   "source": [
    "print(\"Qual é rapaziada!\")"
   ]
  },
  {
   "cell_type": "code",
   "execution_count": 3,
   "metadata": {
    "collapsed": true
   },
   "outputs": [],
   "source": [
    "## comentario"
   ]
  },
  {
   "cell_type": "markdown",
   "metadata": {},
   "source": [
    "## aula de SAD"
   ]
  },
  {
   "cell_type": "code",
   "execution_count": 7,
   "metadata": {},
   "outputs": [
    {
     "data": {
      "text/plain": [
       "range(0, 3)"
      ]
     },
     "execution_count": 7,
     "metadata": {},
     "output_type": "execute_result"
    }
   ],
   "source": [
    "a = range(3)\n",
    "a"
   ]
  },
  {
   "cell_type": "code",
   "execution_count": 8,
   "metadata": {},
   "outputs": [
    {
     "data": {
      "text/plain": [
       "range(0, 3)"
      ]
     },
     "execution_count": 8,
     "metadata": {},
     "output_type": "execute_result"
    }
   ],
   "source": [
    "a"
   ]
  },
  {
   "cell_type": "code",
   "execution_count": 13,
   "metadata": {},
   "outputs": [],
   "source": [
    "import pandas as pd"
   ]
  },
  {
   "cell_type": "code",
   "execution_count": 14,
   "metadata": {
    "collapsed": true
   },
   "outputs": [],
   "source": [
    "import numpy as np"
   ]
  },
  {
   "cell_type": "code",
   "execution_count": 15,
   "metadata": {},
   "outputs": [
    {
     "data": {
      "text/plain": [
       "a   -0.828018\n",
       "b    2.318776\n",
       "c    0.659705\n",
       "d   -0.377071\n",
       "e   -0.029469\n",
       "dtype: float64"
      ]
     },
     "execution_count": 15,
     "metadata": {},
     "output_type": "execute_result"
    }
   ],
   "source": [
    "# Create a series\n",
    "pd.Series(np.random.randn(5), index=['a','b','c','d','e'])"
   ]
  },
  {
   "cell_type": "code",
   "execution_count": 17,
   "metadata": {},
   "outputs": [
    {
     "name": "stdout",
     "output_type": "stream",
     "text": [
      "a   -0.016013\n",
      "b    0.675727\n",
      "c   -0.349511\n",
      "d    0.554691\n",
      "e    0.414092\n",
      "dtype: float64\n"
     ]
    }
   ],
   "source": [
    "# guardando a serie em uma variável\n",
    "s = pd.Series(np.random.randn(5), index=['a','b','c','d','e'])\n",
    "print(s)"
   ]
  },
  {
   "cell_type": "code",
   "execution_count": 21,
   "metadata": {},
   "outputs": [
    {
     "name": "stdout",
     "output_type": "stream",
     "text": [
      "-0.0160133320194\n",
      "/n\n",
      "a   -0.016013\n",
      "b    0.675727\n",
      "c   -0.349511\n",
      "dtype: float64\n"
     ]
    }
   ],
   "source": [
    "# imprimindo o indice a\n",
    "print(s['a'])\n",
    "print(\"/n\")\n",
    "print(s[:3])"
   ]
  },
  {
   "cell_type": "code",
   "execution_count": 26,
   "metadata": {},
   "outputs": [
    {
     "data": {
      "text/html": [
       "<div>\n",
       "<table border=\"1\" class=\"dataframe\">\n",
       "  <thead>\n",
       "    <tr style=\"text-align: right;\">\n",
       "      <th></th>\n",
       "      <th>Coluna 1</th>\n",
       "    </tr>\n",
       "  </thead>\n",
       "  <tbody>\n",
       "    <tr>\n",
       "      <th>a</th>\n",
       "      <td>-0.016013</td>\n",
       "    </tr>\n",
       "    <tr>\n",
       "      <th>b</th>\n",
       "      <td>0.675727</td>\n",
       "    </tr>\n",
       "    <tr>\n",
       "      <th>c</th>\n",
       "      <td>-0.349511</td>\n",
       "    </tr>\n",
       "    <tr>\n",
       "      <th>d</th>\n",
       "      <td>0.554691</td>\n",
       "    </tr>\n",
       "    <tr>\n",
       "      <th>e</th>\n",
       "      <td>0.414092</td>\n",
       "    </tr>\n",
       "  </tbody>\n",
       "</table>\n",
       "</div>"
      ],
      "text/plain": [
       "   Coluna 1\n",
       "a -0.016013\n",
       "b  0.675727\n",
       "c -0.349511\n",
       "d  0.554691\n",
       "e  0.414092"
      ]
     },
     "execution_count": 26,
     "metadata": {},
     "output_type": "execute_result"
    }
   ],
   "source": [
    "# dataframe\n",
    "df = pd.DataFrame(s, columns = ['Coluna 1'])\n",
    "df"
   ]
  },
  {
   "cell_type": "code",
   "execution_count": 28,
   "metadata": {},
   "outputs": [
    {
     "data": {
      "text/plain": [
       "a   -0.016013\n",
       "b    0.675727\n",
       "c   -0.349511\n",
       "d    0.554691\n",
       "e    0.414092\n",
       "Name: Coluna 1, dtype: float64"
      ]
     },
     "execution_count": 28,
     "metadata": {},
     "output_type": "execute_result"
    }
   ],
   "source": [
    "# acessando a culuna pelo nome\n",
    "df['Coluna 1']"
   ]
  },
  {
   "cell_type": "code",
   "execution_count": 29,
   "metadata": {},
   "outputs": [
    {
     "data": {
      "text/html": [
       "<div>\n",
       "<table border=\"1\" class=\"dataframe\">\n",
       "  <thead>\n",
       "    <tr style=\"text-align: right;\">\n",
       "      <th></th>\n",
       "      <th>Coluna 1</th>\n",
       "      <th>Coluna 2</th>\n",
       "    </tr>\n",
       "  </thead>\n",
       "  <tbody>\n",
       "    <tr>\n",
       "      <th>a</th>\n",
       "      <td>-0.016013</td>\n",
       "      <td>-0.064053</td>\n",
       "    </tr>\n",
       "    <tr>\n",
       "      <th>b</th>\n",
       "      <td>0.675727</td>\n",
       "      <td>2.702909</td>\n",
       "    </tr>\n",
       "    <tr>\n",
       "      <th>c</th>\n",
       "      <td>-0.349511</td>\n",
       "      <td>-1.398045</td>\n",
       "    </tr>\n",
       "    <tr>\n",
       "      <th>d</th>\n",
       "      <td>0.554691</td>\n",
       "      <td>2.218766</td>\n",
       "    </tr>\n",
       "    <tr>\n",
       "      <th>e</th>\n",
       "      <td>0.414092</td>\n",
       "      <td>1.656369</td>\n",
       "    </tr>\n",
       "  </tbody>\n",
       "</table>\n",
       "</div>"
      ],
      "text/plain": [
       "   Coluna 1  Coluna 2\n",
       "a -0.016013 -0.064053\n",
       "b  0.675727  2.702909\n",
       "c -0.349511 -1.398045\n",
       "d  0.554691  2.218766\n",
       "e  0.414092  1.656369"
      ]
     },
     "execution_count": 29,
     "metadata": {},
     "output_type": "execute_result"
    }
   ],
   "source": [
    "# adicionando uma coluna\n",
    "df['Coluna 2'] = df['Coluna 1'] * 4 \n",
    "df"
   ]
  },
  {
   "cell_type": "code",
   "execution_count": 30,
   "metadata": {},
   "outputs": [
    {
     "data": {
      "text/html": [
       "<div>\n",
       "<table border=\"1\" class=\"dataframe\">\n",
       "  <thead>\n",
       "    <tr style=\"text-align: right;\">\n",
       "      <th></th>\n",
       "      <th>Coluna 1</th>\n",
       "      <th>Coluna 2</th>\n",
       "    </tr>\n",
       "  </thead>\n",
       "  <tbody>\n",
       "    <tr>\n",
       "      <th>c</th>\n",
       "      <td>-0.349511</td>\n",
       "      <td>-1.398045</td>\n",
       "    </tr>\n",
       "    <tr>\n",
       "      <th>a</th>\n",
       "      <td>-0.016013</td>\n",
       "      <td>-0.064053</td>\n",
       "    </tr>\n",
       "    <tr>\n",
       "      <th>e</th>\n",
       "      <td>0.414092</td>\n",
       "      <td>1.656369</td>\n",
       "    </tr>\n",
       "    <tr>\n",
       "      <th>d</th>\n",
       "      <td>0.554691</td>\n",
       "      <td>2.218766</td>\n",
       "    </tr>\n",
       "    <tr>\n",
       "      <th>b</th>\n",
       "      <td>0.675727</td>\n",
       "      <td>2.702909</td>\n",
       "    </tr>\n",
       "  </tbody>\n",
       "</table>\n",
       "</div>"
      ],
      "text/plain": [
       "   Coluna 1  Coluna 2\n",
       "c -0.349511 -1.398045\n",
       "a -0.016013 -0.064053\n",
       "e  0.414092  1.656369\n",
       "d  0.554691  2.218766\n",
       "b  0.675727  2.702909"
      ]
     },
     "execution_count": 30,
     "metadata": {},
     "output_type": "execute_result"
    }
   ],
   "source": [
    "# ordenação\n",
    "\n",
    "df.sort_values(by ='Coluna 2')"
   ]
  },
  {
   "cell_type": "code",
   "execution_count": 31,
   "metadata": {},
   "outputs": [
    {
     "data": {
      "text/html": [
       "<div>\n",
       "<table border=\"1\" class=\"dataframe\">\n",
       "  <thead>\n",
       "    <tr style=\"text-align: right;\">\n",
       "      <th></th>\n",
       "      <th>Coluna 1</th>\n",
       "      <th>Coluna 2</th>\n",
       "    </tr>\n",
       "  </thead>\n",
       "  <tbody>\n",
       "    <tr>\n",
       "      <th>a</th>\n",
       "      <td>-0.016013</td>\n",
       "      <td>-0.064053</td>\n",
       "    </tr>\n",
       "    <tr>\n",
       "      <th>c</th>\n",
       "      <td>-0.349511</td>\n",
       "      <td>-1.398045</td>\n",
       "    </tr>\n",
       "    <tr>\n",
       "      <th>e</th>\n",
       "      <td>0.414092</td>\n",
       "      <td>1.656369</td>\n",
       "    </tr>\n",
       "  </tbody>\n",
       "</table>\n",
       "</div>"
      ],
      "text/plain": [
       "   Coluna 1  Coluna 2\n",
       "a -0.016013 -0.064053\n",
       "c -0.349511 -1.398045\n",
       "e  0.414092  1.656369"
      ]
     },
     "execution_count": 31,
     "metadata": {},
     "output_type": "execute_result"
    }
   ],
   "source": [
    "# mostrando colunas através de condições\n",
    "df[ df['Coluna 2'] <= 2]"
   ]
  },
  {
   "cell_type": "code",
   "execution_count": 32,
   "metadata": {},
   "outputs": [
    {
     "data": {
      "text/plain": [
       "Coluna 1    0.255797\n",
       "Coluna 2    1.023189\n",
       "dtype: float64"
      ]
     },
     "execution_count": 32,
     "metadata": {},
     "output_type": "execute_result"
    }
   ],
   "source": [
    "df.apply(lambda x: min(x) + max(x))\n",
    "np.mean(df)\n"
   ]
  },
  {
   "cell_type": "code",
   "execution_count": 33,
   "metadata": {},
   "outputs": [
    {
     "data": {
      "text/html": [
       "<div>\n",
       "<table border=\"1\" class=\"dataframe\">\n",
       "  <thead>\n",
       "    <tr style=\"text-align: right;\">\n",
       "      <th></th>\n",
       "      <th>Coluna 1</th>\n",
       "      <th>Coluna 2</th>\n",
       "    </tr>\n",
       "  </thead>\n",
       "  <tbody>\n",
       "    <tr>\n",
       "      <th>count</th>\n",
       "      <td>5.000000</td>\n",
       "      <td>5.000000</td>\n",
       "    </tr>\n",
       "    <tr>\n",
       "      <th>mean</th>\n",
       "      <td>0.255797</td>\n",
       "      <td>1.023189</td>\n",
       "    </tr>\n",
       "    <tr>\n",
       "      <th>std</th>\n",
       "      <td>0.427497</td>\n",
       "      <td>1.709989</td>\n",
       "    </tr>\n",
       "    <tr>\n",
       "      <th>min</th>\n",
       "      <td>-0.349511</td>\n",
       "      <td>-1.398045</td>\n",
       "    </tr>\n",
       "    <tr>\n",
       "      <th>25%</th>\n",
       "      <td>-0.016013</td>\n",
       "      <td>-0.064053</td>\n",
       "    </tr>\n",
       "    <tr>\n",
       "      <th>50%</th>\n",
       "      <td>0.414092</td>\n",
       "      <td>1.656369</td>\n",
       "    </tr>\n",
       "    <tr>\n",
       "      <th>75%</th>\n",
       "      <td>0.554691</td>\n",
       "      <td>2.218766</td>\n",
       "    </tr>\n",
       "    <tr>\n",
       "      <th>max</th>\n",
       "      <td>0.675727</td>\n",
       "      <td>2.702909</td>\n",
       "    </tr>\n",
       "  </tbody>\n",
       "</table>\n",
       "</div>"
      ],
      "text/plain": [
       "       Coluna 1  Coluna 2\n",
       "count  5.000000  5.000000\n",
       "mean   0.255797  1.023189\n",
       "std    0.427497  1.709989\n",
       "min   -0.349511 -1.398045\n",
       "25%   -0.016013 -0.064053\n",
       "50%    0.414092  1.656369\n",
       "75%    0.554691  2.218766\n",
       "max    0.675727  2.702909"
      ]
     },
     "execution_count": 33,
     "metadata": {},
     "output_type": "execute_result"
    }
   ],
   "source": [
    "table = df.describe()\n",
    "table"
   ]
  },
  {
   "cell_type": "markdown",
   "metadata": {},
   "source": [
    "# DATASET"
   ]
  },
  {
   "cell_type": "code",
   "execution_count": 34,
   "metadata": {
    "collapsed": true
   },
   "outputs": [],
   "source": [
    "import matplotlib.pyplot as plt\n",
    "% matplotlib inline\n",
    "plt.style.use('ggplot')"
   ]
  },
  {
   "cell_type": "code",
   "execution_count": 38,
   "metadata": {},
   "outputs": [
    {
     "data": {
      "text/html": [
       "<div>\n",
       "<table border=\"1\" class=\"dataframe\">\n",
       "  <thead>\n",
       "    <tr style=\"text-align: right;\">\n",
       "      <th></th>\n",
       "      <th>dt</th>\n",
       "      <th>LandAverageTemperature</th>\n",
       "      <th>LandAverageTemperatureUncertainty</th>\n",
       "      <th>LandMaxTemperature</th>\n",
       "      <th>LandMaxTemperatureUncertainty</th>\n",
       "      <th>LandMinTemperature</th>\n",
       "      <th>LandMinTemperatureUncertainty</th>\n",
       "      <th>LandAndOceanAverageTemperature</th>\n",
       "      <th>LandAndOceanAverageTemperatureUncertainty</th>\n",
       "    </tr>\n",
       "  </thead>\n",
       "  <tbody>\n",
       "    <tr>\n",
       "      <th>3182</th>\n",
       "      <td>2015-03-01</td>\n",
       "      <td>6.740</td>\n",
       "      <td>0.060</td>\n",
       "      <td>12.659</td>\n",
       "      <td>0.096</td>\n",
       "      <td>0.894</td>\n",
       "      <td>0.079</td>\n",
       "      <td>15.193</td>\n",
       "      <td>0.061</td>\n",
       "    </tr>\n",
       "    <tr>\n",
       "      <th>3183</th>\n",
       "      <td>2015-04-01</td>\n",
       "      <td>9.313</td>\n",
       "      <td>0.088</td>\n",
       "      <td>15.224</td>\n",
       "      <td>0.137</td>\n",
       "      <td>3.402</td>\n",
       "      <td>0.147</td>\n",
       "      <td>15.962</td>\n",
       "      <td>0.061</td>\n",
       "    </tr>\n",
       "    <tr>\n",
       "      <th>3184</th>\n",
       "      <td>2015-05-01</td>\n",
       "      <td>12.312</td>\n",
       "      <td>0.081</td>\n",
       "      <td>18.181</td>\n",
       "      <td>0.117</td>\n",
       "      <td>6.313</td>\n",
       "      <td>0.153</td>\n",
       "      <td>16.774</td>\n",
       "      <td>0.058</td>\n",
       "    </tr>\n",
       "    <tr>\n",
       "      <th>3185</th>\n",
       "      <td>2015-06-01</td>\n",
       "      <td>14.505</td>\n",
       "      <td>0.068</td>\n",
       "      <td>20.364</td>\n",
       "      <td>0.133</td>\n",
       "      <td>8.627</td>\n",
       "      <td>0.168</td>\n",
       "      <td>17.390</td>\n",
       "      <td>0.057</td>\n",
       "    </tr>\n",
       "    <tr>\n",
       "      <th>3186</th>\n",
       "      <td>2015-07-01</td>\n",
       "      <td>15.051</td>\n",
       "      <td>0.086</td>\n",
       "      <td>20.904</td>\n",
       "      <td>0.109</td>\n",
       "      <td>9.326</td>\n",
       "      <td>0.225</td>\n",
       "      <td>17.611</td>\n",
       "      <td>0.058</td>\n",
       "    </tr>\n",
       "    <tr>\n",
       "      <th>3187</th>\n",
       "      <td>2015-08-01</td>\n",
       "      <td>14.755</td>\n",
       "      <td>0.072</td>\n",
       "      <td>20.699</td>\n",
       "      <td>0.110</td>\n",
       "      <td>9.005</td>\n",
       "      <td>0.170</td>\n",
       "      <td>17.589</td>\n",
       "      <td>0.057</td>\n",
       "    </tr>\n",
       "    <tr>\n",
       "      <th>3188</th>\n",
       "      <td>2015-09-01</td>\n",
       "      <td>12.999</td>\n",
       "      <td>0.079</td>\n",
       "      <td>18.845</td>\n",
       "      <td>0.088</td>\n",
       "      <td>7.199</td>\n",
       "      <td>0.229</td>\n",
       "      <td>17.049</td>\n",
       "      <td>0.058</td>\n",
       "    </tr>\n",
       "    <tr>\n",
       "      <th>3189</th>\n",
       "      <td>2015-10-01</td>\n",
       "      <td>10.801</td>\n",
       "      <td>0.102</td>\n",
       "      <td>16.450</td>\n",
       "      <td>0.059</td>\n",
       "      <td>5.232</td>\n",
       "      <td>0.115</td>\n",
       "      <td>16.290</td>\n",
       "      <td>0.062</td>\n",
       "    </tr>\n",
       "    <tr>\n",
       "      <th>3190</th>\n",
       "      <td>2015-11-01</td>\n",
       "      <td>7.433</td>\n",
       "      <td>0.119</td>\n",
       "      <td>12.892</td>\n",
       "      <td>0.093</td>\n",
       "      <td>2.157</td>\n",
       "      <td>0.106</td>\n",
       "      <td>15.252</td>\n",
       "      <td>0.063</td>\n",
       "    </tr>\n",
       "    <tr>\n",
       "      <th>3191</th>\n",
       "      <td>2015-12-01</td>\n",
       "      <td>5.518</td>\n",
       "      <td>0.100</td>\n",
       "      <td>10.725</td>\n",
       "      <td>0.154</td>\n",
       "      <td>0.287</td>\n",
       "      <td>0.099</td>\n",
       "      <td>14.774</td>\n",
       "      <td>0.062</td>\n",
       "    </tr>\n",
       "  </tbody>\n",
       "</table>\n",
       "</div>"
      ],
      "text/plain": [
       "              dt  LandAverageTemperature  LandAverageTemperatureUncertainty  \\\n",
       "3182  2015-03-01                   6.740                              0.060   \n",
       "3183  2015-04-01                   9.313                              0.088   \n",
       "3184  2015-05-01                  12.312                              0.081   \n",
       "3185  2015-06-01                  14.505                              0.068   \n",
       "3186  2015-07-01                  15.051                              0.086   \n",
       "3187  2015-08-01                  14.755                              0.072   \n",
       "3188  2015-09-01                  12.999                              0.079   \n",
       "3189  2015-10-01                  10.801                              0.102   \n",
       "3190  2015-11-01                   7.433                              0.119   \n",
       "3191  2015-12-01                   5.518                              0.100   \n",
       "\n",
       "      LandMaxTemperature  LandMaxTemperatureUncertainty  LandMinTemperature  \\\n",
       "3182              12.659                          0.096               0.894   \n",
       "3183              15.224                          0.137               3.402   \n",
       "3184              18.181                          0.117               6.313   \n",
       "3185              20.364                          0.133               8.627   \n",
       "3186              20.904                          0.109               9.326   \n",
       "3187              20.699                          0.110               9.005   \n",
       "3188              18.845                          0.088               7.199   \n",
       "3189              16.450                          0.059               5.232   \n",
       "3190              12.892                          0.093               2.157   \n",
       "3191              10.725                          0.154               0.287   \n",
       "\n",
       "      LandMinTemperatureUncertainty  LandAndOceanAverageTemperature  \\\n",
       "3182                          0.079                          15.193   \n",
       "3183                          0.147                          15.962   \n",
       "3184                          0.153                          16.774   \n",
       "3185                          0.168                          17.390   \n",
       "3186                          0.225                          17.611   \n",
       "3187                          0.170                          17.589   \n",
       "3188                          0.229                          17.049   \n",
       "3189                          0.115                          16.290   \n",
       "3190                          0.106                          15.252   \n",
       "3191                          0.099                          14.774   \n",
       "\n",
       "      LandAndOceanAverageTemperatureUncertainty  \n",
       "3182                                      0.061  \n",
       "3183                                      0.061  \n",
       "3184                                      0.058  \n",
       "3185                                      0.057  \n",
       "3186                                      0.058  \n",
       "3187                                      0.057  \n",
       "3188                                      0.058  \n",
       "3189                                      0.062  \n",
       "3190                                      0.063  \n",
       "3191                                      0.062  "
      ]
     },
     "execution_count": 38,
     "metadata": {},
     "output_type": "execute_result"
    }
   ],
   "source": [
    "# trasnformando csv em dataframe\n",
    "df = pd.read_csv('C:\\data\\GlobalTemperatures.csv')\n",
    "\n",
    "#mostrar 5 primeiras linhas\n",
    "df.tail(10)"
   ]
  },
  {
   "cell_type": "code",
   "execution_count": 39,
   "metadata": {},
   "outputs": [
    {
     "data": {
      "text/html": [
       "<div>\n",
       "<table border=\"1\" class=\"dataframe\">\n",
       "  <thead>\n",
       "    <tr style=\"text-align: right;\">\n",
       "      <th></th>\n",
       "      <th>dt</th>\n",
       "      <th>LandAverageTemperature</th>\n",
       "    </tr>\n",
       "  </thead>\n",
       "  <tbody>\n",
       "    <tr>\n",
       "      <th>0</th>\n",
       "      <td>1750-01-01</td>\n",
       "      <td>3.034</td>\n",
       "    </tr>\n",
       "    <tr>\n",
       "      <th>1</th>\n",
       "      <td>1750-02-01</td>\n",
       "      <td>3.083</td>\n",
       "    </tr>\n",
       "    <tr>\n",
       "      <th>2</th>\n",
       "      <td>1750-03-01</td>\n",
       "      <td>5.626</td>\n",
       "    </tr>\n",
       "    <tr>\n",
       "      <th>3</th>\n",
       "      <td>1750-04-01</td>\n",
       "      <td>8.490</td>\n",
       "    </tr>\n",
       "    <tr>\n",
       "      <th>4</th>\n",
       "      <td>1750-05-01</td>\n",
       "      <td>11.573</td>\n",
       "    </tr>\n",
       "  </tbody>\n",
       "</table>\n",
       "</div>"
      ],
      "text/plain": [
       "           dt  LandAverageTemperature\n",
       "0  1750-01-01                   3.034\n",
       "1  1750-02-01                   3.083\n",
       "2  1750-03-01                   5.626\n",
       "3  1750-04-01                   8.490\n",
       "4  1750-05-01                  11.573"
      ]
     },
     "execution_count": 39,
     "metadata": {},
     "output_type": "execute_result"
    }
   ],
   "source": [
    "# filtrando as duas primeiras colunas da tabela\n",
    "\n",
    "df = df.ix[:,:2]\n",
    "df.head()"
   ]
  },
  {
   "cell_type": "code",
   "execution_count": 40,
   "metadata": {},
   "outputs": [
    {
     "data": {
      "text/html": [
       "<div>\n",
       "<table border=\"1\" class=\"dataframe\">\n",
       "  <thead>\n",
       "    <tr style=\"text-align: right;\">\n",
       "      <th></th>\n",
       "      <th>LandAverageTemperature</th>\n",
       "    </tr>\n",
       "  </thead>\n",
       "  <tbody>\n",
       "    <tr>\n",
       "      <th>count</th>\n",
       "      <td>3180.000000</td>\n",
       "    </tr>\n",
       "    <tr>\n",
       "      <th>mean</th>\n",
       "      <td>8.374731</td>\n",
       "    </tr>\n",
       "    <tr>\n",
       "      <th>std</th>\n",
       "      <td>4.381310</td>\n",
       "    </tr>\n",
       "    <tr>\n",
       "      <th>min</th>\n",
       "      <td>-2.080000</td>\n",
       "    </tr>\n",
       "    <tr>\n",
       "      <th>25%</th>\n",
       "      <td>4.312000</td>\n",
       "    </tr>\n",
       "    <tr>\n",
       "      <th>50%</th>\n",
       "      <td>8.610500</td>\n",
       "    </tr>\n",
       "    <tr>\n",
       "      <th>75%</th>\n",
       "      <td>12.548250</td>\n",
       "    </tr>\n",
       "    <tr>\n",
       "      <th>max</th>\n",
       "      <td>19.021000</td>\n",
       "    </tr>\n",
       "  </tbody>\n",
       "</table>\n",
       "</div>"
      ],
      "text/plain": [
       "       LandAverageTemperature\n",
       "count             3180.000000\n",
       "mean                 8.374731\n",
       "std                  4.381310\n",
       "min                 -2.080000\n",
       "25%                  4.312000\n",
       "50%                  8.610500\n",
       "75%                 12.548250\n",
       "max                 19.021000"
      ]
     },
     "execution_count": 40,
     "metadata": {},
     "output_type": "execute_result"
    }
   ],
   "source": [
    "df.describe()"
   ]
  },
  {
   "cell_type": "code",
   "execution_count": 46,
   "metadata": {},
   "outputs": [
    {
     "data": {
      "image/png": "[encoded data removed]",
      "text/plain": [
       "<matplotlib.figure.Figure at 0x2ee8196a358>"
      ]
     },
     "metadata": {},
     "output_type": "display_data"
    },
    {
     "data": {
      "text/html": [
       "<div>\n",
       "<table border=\"1\" class=\"dataframe\">\n",
       "  <thead>\n",
       "    <tr style=\"text-align: right;\">\n",
       "      <th></th>\n",
       "      <th>LandAverageTemperature</th>\n",
       "    </tr>\n",
       "  </thead>\n",
       "  <tbody>\n",
       "    <tr>\n",
       "      <th>1750</th>\n",
       "      <td>8.719364</td>\n",
       "    </tr>\n",
       "    <tr>\n",
       "      <th>1751</th>\n",
       "      <td>7.976143</td>\n",
       "    </tr>\n",
       "    <tr>\n",
       "      <th>1752</th>\n",
       "      <td>5.779833</td>\n",
       "    </tr>\n",
       "    <tr>\n",
       "      <th>1753</th>\n",
       "      <td>8.388083</td>\n",
       "    </tr>\n",
       "    <tr>\n",
       "      <th>1754</th>\n",
       "      <td>8.469333</td>\n",
       "    </tr>\n",
       "  </tbody>\n",
       "</table>\n",
       "</div>"
      ],
      "text/plain": [
       "      LandAverageTemperature\n",
       "1750                8.719364\n",
       "1751                7.976143\n",
       "1752                5.779833\n",
       "1753                8.388083\n",
       "1754                8.469333"
      ]
     },
     "execution_count": 46,
     "metadata": {},
     "output_type": "execute_result"
    }
   ],
   "source": [
    "#cursory plot\n",
    "plt.figure(figsize=(15,5))\n",
    "plt.scatter(x = df['LandAverageTemperature'].index, y = df['LandAverageTemperature'])\n",
    "plt.title('Temperatura média da terra 1750-2015')\n",
    "plt.xlabel(\"Ano\")\n",
    "plt.ylabel(\"Temperatura\")\n",
    "\n",
    "plt.show()"
   ]
  },
  {
   "cell_type": "code",
   "execution_count": 48,
   "metadata": {},
   "outputs": [
    {
     "data": {
      "image/png": "[encoded data removed]",
      "text/plain": [
       "<matplotlib.figure.Figure at 0x2ee8202d940>"
      ]
     },
     "metadata": {},
     "output_type": "display_data"
    }
   ],
   "source": [
    "\n",
    "#pegando só a data\n",
    "times = pd.DatetimeIndex(df['dt'])\n",
    "grouped = df.groupby([times.year]).mean()\n",
    "\n",
    "plt.figure(figsize=(15,5))\n",
    "plt.plot(grouped['LandAverageTemperature'])\n",
    "\n",
    "plt.title('Temperatura média da terra 1750-2015')\n",
    "plt.xlabel(\"Year\")\n",
    "plt.ylabel(\"Temperatura\")\n",
    "plt.show()\n"
   ]
  },
  {
   "cell_type": "code",
   "execution_count": 49,
   "metadata": {},
   "outputs": [
    {
     "data": {
      "text/html": [
       "<div>\n",
       "<table border=\"1\" class=\"dataframe\">\n",
       "  <thead>\n",
       "    <tr style=\"text-align: right;\">\n",
       "      <th></th>\n",
       "      <th>LandAverageTemperature</th>\n",
       "    </tr>\n",
       "  </thead>\n",
       "  <tbody>\n",
       "    <tr>\n",
       "      <th>1750</th>\n",
       "      <td>8.719364</td>\n",
       "    </tr>\n",
       "    <tr>\n",
       "      <th>1751</th>\n",
       "      <td>7.976143</td>\n",
       "    </tr>\n",
       "    <tr>\n",
       "      <th>1752</th>\n",
       "      <td>5.779833</td>\n",
       "    </tr>\n",
       "    <tr>\n",
       "      <th>1753</th>\n",
       "      <td>8.388083</td>\n",
       "    </tr>\n",
       "    <tr>\n",
       "      <th>1754</th>\n",
       "      <td>8.469333</td>\n",
       "    </tr>\n",
       "  </tbody>\n",
       "</table>\n",
       "</div>"
      ],
      "text/plain": [
       "      LandAverageTemperature\n",
       "1750                8.719364\n",
       "1751                7.976143\n",
       "1752                5.779833\n",
       "1753                8.388083\n",
       "1754                8.469333"
      ]
     },
     "execution_count": 49,
     "metadata": {},
     "output_type": "execute_result"
    }
   ],
   "source": [
    "# o que esta gerando anomalias\n",
    "\n",
    "grouped.head()"
   ]
  },
  {
   "cell_type": "code",
   "execution_count": 50,
   "metadata": {},
   "outputs": [
    {
     "data": {
      "text/html": [
       "<div>\n",
       "<table border=\"1\" class=\"dataframe\">\n",
       "  <thead>\n",
       "    <tr style=\"text-align: right;\">\n",
       "      <th></th>\n",
       "      <th>dt</th>\n",
       "      <th>LandAverageTemperature</th>\n",
       "    </tr>\n",
       "  </thead>\n",
       "  <tbody>\n",
       "    <tr>\n",
       "      <th>24</th>\n",
       "      <td>1752-01-01</td>\n",
       "      <td>0.348</td>\n",
       "    </tr>\n",
       "    <tr>\n",
       "      <th>25</th>\n",
       "      <td>1752-02-01</td>\n",
       "      <td>NaN</td>\n",
       "    </tr>\n",
       "    <tr>\n",
       "      <th>26</th>\n",
       "      <td>1752-03-01</td>\n",
       "      <td>5.806</td>\n",
       "    </tr>\n",
       "    <tr>\n",
       "      <th>27</th>\n",
       "      <td>1752-04-01</td>\n",
       "      <td>8.265</td>\n",
       "    </tr>\n",
       "    <tr>\n",
       "      <th>28</th>\n",
       "      <td>1752-05-01</td>\n",
       "      <td>NaN</td>\n",
       "    </tr>\n",
       "    <tr>\n",
       "      <th>29</th>\n",
       "      <td>1752-06-01</td>\n",
       "      <td>NaN</td>\n",
       "    </tr>\n",
       "    <tr>\n",
       "      <th>30</th>\n",
       "      <td>1752-07-01</td>\n",
       "      <td>NaN</td>\n",
       "    </tr>\n",
       "    <tr>\n",
       "      <th>31</th>\n",
       "      <td>1752-08-01</td>\n",
       "      <td>NaN</td>\n",
       "    </tr>\n",
       "    <tr>\n",
       "      <th>32</th>\n",
       "      <td>1752-09-01</td>\n",
       "      <td>NaN</td>\n",
       "    </tr>\n",
       "    <tr>\n",
       "      <th>33</th>\n",
       "      <td>1752-10-01</td>\n",
       "      <td>7.839</td>\n",
       "    </tr>\n",
       "    <tr>\n",
       "      <th>34</th>\n",
       "      <td>1752-11-01</td>\n",
       "      <td>7.335</td>\n",
       "    </tr>\n",
       "    <tr>\n",
       "      <th>35</th>\n",
       "      <td>1752-12-01</td>\n",
       "      <td>5.086</td>\n",
       "    </tr>\n",
       "  </tbody>\n",
       "</table>\n",
       "</div>"
      ],
      "text/plain": [
       "            dt  LandAverageTemperature\n",
       "24  1752-01-01                   0.348\n",
       "25  1752-02-01                     NaN\n",
       "26  1752-03-01                   5.806\n",
       "27  1752-04-01                   8.265\n",
       "28  1752-05-01                     NaN\n",
       "29  1752-06-01                     NaN\n",
       "30  1752-07-01                     NaN\n",
       "31  1752-08-01                     NaN\n",
       "32  1752-09-01                     NaN\n",
       "33  1752-10-01                   7.839\n",
       "34  1752-11-01                   7.335\n",
       "35  1752-12-01                   5.086"
      ]
     },
     "execution_count": 50,
     "metadata": {},
     "output_type": "execute_result"
    }
   ],
   "source": [
    "# o que esta gerando anomalias\n",
    "df[times.year == 1752]"
   ]
  },
  {
   "cell_type": "code",
   "execution_count": 51,
   "metadata": {},
   "outputs": [
    {
     "data": {
      "text/html": [
       "<div>\n",
       "<table border=\"1\" class=\"dataframe\">\n",
       "  <thead>\n",
       "    <tr style=\"text-align: right;\">\n",
       "      <th></th>\n",
       "      <th>dt</th>\n",
       "      <th>LandAverageTemperature</th>\n",
       "    </tr>\n",
       "  </thead>\n",
       "  <tbody>\n",
       "    <tr>\n",
       "      <th>10</th>\n",
       "      <td>1750-11-01</td>\n",
       "      <td>NaN</td>\n",
       "    </tr>\n",
       "    <tr>\n",
       "      <th>16</th>\n",
       "      <td>1751-05-01</td>\n",
       "      <td>NaN</td>\n",
       "    </tr>\n",
       "    <tr>\n",
       "      <th>18</th>\n",
       "      <td>1751-07-01</td>\n",
       "      <td>NaN</td>\n",
       "    </tr>\n",
       "    <tr>\n",
       "      <th>21</th>\n",
       "      <td>1751-10-01</td>\n",
       "      <td>NaN</td>\n",
       "    </tr>\n",
       "    <tr>\n",
       "      <th>22</th>\n",
       "      <td>1751-11-01</td>\n",
       "      <td>NaN</td>\n",
       "    </tr>\n",
       "    <tr>\n",
       "      <th>23</th>\n",
       "      <td>1751-12-01</td>\n",
       "      <td>NaN</td>\n",
       "    </tr>\n",
       "    <tr>\n",
       "      <th>25</th>\n",
       "      <td>1752-02-01</td>\n",
       "      <td>NaN</td>\n",
       "    </tr>\n",
       "    <tr>\n",
       "      <th>28</th>\n",
       "      <td>1752-05-01</td>\n",
       "      <td>NaN</td>\n",
       "    </tr>\n",
       "    <tr>\n",
       "      <th>29</th>\n",
       "      <td>1752-06-01</td>\n",
       "      <td>NaN</td>\n",
       "    </tr>\n",
       "    <tr>\n",
       "      <th>30</th>\n",
       "      <td>1752-07-01</td>\n",
       "      <td>NaN</td>\n",
       "    </tr>\n",
       "    <tr>\n",
       "      <th>31</th>\n",
       "      <td>1752-08-01</td>\n",
       "      <td>NaN</td>\n",
       "    </tr>\n",
       "    <tr>\n",
       "      <th>32</th>\n",
       "      <td>1752-09-01</td>\n",
       "      <td>NaN</td>\n",
       "    </tr>\n",
       "  </tbody>\n",
       "</table>\n",
       "</div>"
      ],
      "text/plain": [
       "            dt  LandAverageTemperature\n",
       "10  1750-11-01                     NaN\n",
       "16  1751-05-01                     NaN\n",
       "18  1751-07-01                     NaN\n",
       "21  1751-10-01                     NaN\n",
       "22  1751-11-01                     NaN\n",
       "23  1751-12-01                     NaN\n",
       "25  1752-02-01                     NaN\n",
       "28  1752-05-01                     NaN\n",
       "29  1752-06-01                     NaN\n",
       "30  1752-07-01                     NaN\n",
       "31  1752-08-01                     NaN\n",
       "32  1752-09-01                     NaN"
      ]
     },
     "execution_count": 51,
     "metadata": {},
     "output_type": "execute_result"
    }
   ],
   "source": [
    "df[np.isnan( df['LandAverageTemperature'] ) ]"
   ]
  },
  {
   "cell_type": "code",
   "execution_count": 53,
   "metadata": {
    "collapsed": true
   },
   "outputs": [],
   "source": [
    "df['LandAverageTemperature'] = df['LandAverageTemperature'].fillna(method='ffill')\n"
   ]
  },
  {
   "cell_type": "code",
   "execution_count": 54,
   "metadata": {},
   "outputs": [
    {
     "data": {
      "image/png": "[encoded data removed]",
      "text/plain": [
       "<matplotlib.figure.Figure at 0x2ee82003ba8>"
      ]
     },
     "metadata": {},
     "output_type": "display_data"
    }
   ],
   "source": [
    "# reagrupando\n",
    "grouped = df.groupby([times.year]).mean()\n",
    "\n",
    "# PODE MELHORAR !\n",
    "\n",
    "plt.figure(figsize=(15,5))\n",
    "plt.plot(grouped['LandAverageTemperature'])\n",
    "plt.show()"
   ]
  },
  {
   "cell_type": "markdown",
   "metadata": {},
   "source": [
    "# modelando o data set"
   ]
  },
  {
   "cell_type": "code",
   "execution_count": 56,
   "metadata": {},
   "outputs": [],
   "source": [
    "from sklearn.linear_model import LinearRegression as LinReg"
   ]
  },
  {
   "cell_type": "code",
   "execution_count": 57,
   "metadata": {
    "collapsed": true
   },
   "outputs": [],
   "source": [
    "x = grouped.index.values.reshape(-1,1)\n",
    "y = grouped['LandAverageTemperature'].values"
   ]
  },
  {
   "cell_type": "code",
   "execution_count": 58,
   "metadata": {},
   "outputs": [
    {
     "name": "stdout",
     "output_type": "stream",
     "text": [
      "Accuracy: 0.376683227531\n"
     ]
    }
   ],
   "source": [
    "reg = LinReg()\n",
    "reg.fit(x,y)\n",
    "y_preds = reg.predict(x)\n",
    "print(\"Accuracy: \"+ str(reg.score(x,y)))"
   ]
  },
  {
   "cell_type": "code",
   "execution_count": 59,
   "metadata": {},
   "outputs": [
    {
     "data": {
      "text/plain": [
       "<matplotlib.collections.PathCollection at 0x2ee839814a8>"
      ]
     },
     "execution_count": 59,
     "metadata": {},
     "output_type": "execute_result"
    },
    {
     "data": {
      "image/png": "[encoded data removed]",
      "text/plain": [
       "<matplotlib.figure.Figure at 0x2ee836d54e0>"
      ]
     },
     "metadata": {},
     "output_type": "display_data"
    }
   ],
   "source": [
    "plt.figure(figsize= (15,5))\n",
    "plt.title(\"Linear Regression\")\n",
    "plt.scatter(x = x, y =y_preds)\n",
    "plt.scatter(x = x, y = y, c =\"b\")"
   ]
  },
  {
   "cell_type": "code",
   "execution_count": 60,
   "metadata": {},
   "outputs": [
    {
     "data": {
      "text/plain": [
       "array([ 9.14631486])"
      ]
     },
     "execution_count": 60,
     "metadata": {},
     "output_type": "execute_result"
    }
   ],
   "source": [
    "reg.predict(2050)"
   ]
  },
  {
   "cell_type": "code",
   "execution_count": null,
   "metadata": {
    "collapsed": true
   },
   "outputs": [],
   "source": []
  }
 ],
 "metadata": {
  "kernelspec": {
   "display_name": "Python 3",
   "language": "python",
   "name": "python3"
  },
  "language_info": {
   "codemirror_mode": {
    "name": "ipython",
    "version": 3
   },
   "file_extension": ".py",
   "mimetype": "text/x-python",
   "name": "python",
   "nbconvert_exporter": "python",
   "pygments_lexer": "ipython3",
   "version": "3.5.3"
  }
 },
 "nbformat": 4,
 "nbformat_minor": 2
}
